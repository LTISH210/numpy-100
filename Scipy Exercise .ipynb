{
 "cells": [
  {
   "cell_type": "code",
   "execution_count": 1,
   "metadata": {
    "collapsed": true
   },
   "outputs": [],
   "source": [
    "import numpy as np\n",
    "from scipy.optimize import curve_fit\n",
    "import matplotlib.pyplot as mpl"
   ]
  },
  {
   "cell_type": "code",
   "execution_count": 2,
   "metadata": {
    "collapsed": true
   },
   "outputs": [],
   "source": [
    "import matplotlib\n",
    "%matplotlib inline"
   ]
  },
  {
   "cell_type": "code",
   "execution_count": 5,
   "metadata": {
    "collapsed": true
   },
   "outputs": [],
   "source": [
    "# Let's create a function to model and create data\n",
    "def func(x, a, x0, sigma):\n",
    "    return a*np.exp(-(x-x0)**2/(2*sigma**2))"
   ]
  },
  {
   "cell_type": "code",
   "execution_count": 6,
   "metadata": {
    "collapsed": false
   },
   "outputs": [
    {
     "data": {
      "text/plain": [
       "array([  2.71828183,   7.3890561 ,  20.08553692])"
      ]
     },
     "execution_count": 6,
     "metadata": {},
     "output_type": "execute_result"
    }
   ],
   "source": [
    "np.exp((1,2,3))"
   ]
  },
  {
   "cell_type": "code",
   "execution_count": 7,
   "metadata": {
    "collapsed": true
   },
   "outputs": [],
   "source": [
    "#Generate\n",
    "x = np.linspace(0, 10, 100)\n",
    "y = func(x, 1, 5, 2)\n"
   ]
  },
  {
   "cell_type": "code",
   "execution_count": 8,
   "metadata": {
    "collapsed": true
   },
   "outputs": [],
   "source": [
    "#Adding noise to the data \n",
    "yn = y +0.2 *np.random.normal(size=len(x))"
   ]
  },
  {
   "cell_type": "code",
   "execution_count": 9,
   "metadata": {
    "collapsed": false
   },
   "outputs": [
    {
     "name": "stdout",
     "output_type": "stream",
     "text": [
      "[ 0.17630625  0.03407187  0.15239387  0.0770257   0.21347697 -0.1959887\n",
      " -0.00350237  0.05200752 -0.11542234 -0.21436732  0.17232568  0.1459925\n",
      "  0.55677118  0.59995434  0.12087834  0.09227296 -0.13114644  0.45040858\n",
      "  0.13366291  0.43097348  0.54106046  0.05804656  0.28524077  0.4176069\n",
      "  0.68879567  0.69920731  0.49051737  0.61662384  0.29916187  0.64591324\n",
      "  1.0361518   0.944541    0.65407007  0.68564761  0.95450777  0.84476231\n",
      "  0.85438933  1.14484139  0.68591528  0.74578247  0.85424286  0.90643386\n",
      "  0.57753628  1.07965285  0.83356076  1.10382476  1.02828783  1.12453862\n",
      "  0.9705772   1.17465232  1.2423021   0.73466937  1.02867174  0.92040837\n",
      "  0.82019006  0.94047041  1.24280542  0.82033583  0.67299326  1.1289252\n",
      "  1.15823788  0.79262837  0.62928821  0.8358814   0.49815184  0.65891001\n",
      "  0.74203938  0.7447582   0.58567623  0.68266734  0.53840705  0.36269145\n",
      "  0.64287329  0.7623642   0.24152796  0.46959697  0.51700351  0.75368799\n",
      "  0.03086826  0.22980602 -0.12469565  0.35765193  0.35313464  0.32856826\n",
      " -0.08900515  0.37121105 -0.18580396  0.11595164  0.10317108 -0.06301051\n",
      "  0.04145442  0.10818138  0.31622328  0.0911269   0.03652236 -0.07752834\n",
      "  0.26332055 -0.05078118  0.31585677  0.33332701]\n"
     ]
    }
   ],
   "source": [
    "print yn"
   ]
  },
  {
   "cell_type": "code",
   "execution_count": 11,
   "metadata": {
    "collapsed": false
   },
   "outputs": [
    {
     "data": {
      "text/plain": [
       "array([[ 0.12866547,  0.01332187, -0.04164999, -0.84432077, -1.04750031],\n",
       "       [ 0.44995226,  0.18821536,  0.70213418, -0.61399425, -2.09214404],\n",
       "       [ 0.5428983 , -0.36616267, -0.41543685,  1.93332919, -0.6942192 ],\n",
       "       [-1.16031461, -0.51134017, -0.34468219,  1.01806214,  0.88829969],\n",
       "       [-0.91732456,  0.78624573, -0.8109488 ,  1.81951525, -0.47873669]])"
      ]
     },
     "execution_count": 11,
     "metadata": {},
     "output_type": "execute_result"
    }
   ],
   "source": [
    "np.random.normal(size=(5,5))"
   ]
  },
  {
   "cell_type": "code",
   "execution_count": 12,
   "metadata": {
    "collapsed": false,
    "scrolled": true
   },
   "outputs": [
    {
     "data": {
      "image/png": "[encoded data removed]",
      "text/plain": [
       "<matplotlib.figure.Figure at 0x111f5f550>"
      ]
     },
     "metadata": {},
     "output_type": "display_data"
    }
   ],
   "source": [
    "# Plot out the current state of the data and model\n",
    "fig = mpl.figure()\n",
    "ax = fig.add_subplot(111)\n",
    "ax.plot(x, y, c='k', label='Function')\n",
    "ax.scatter(x, yn)\n",
    "fig.savefig('model_and_noise_multiple.png')"
   ]
  },
  {
   "cell_type": "code",
   "execution_count": 13,
   "metadata": {
    "collapsed": true
   },
   "outputs": [],
   "source": [
    "# Executing curve_fit on noisy data\n",
    "popt, pcov = curve_fit(func, x, yn)"
   ]
  },
  {
   "cell_type": "code",
   "execution_count": 14,
   "metadata": {
    "collapsed": false,
    "scrolled": true
   },
   "outputs": [
    {
     "name": "stdout",
     "output_type": "stream",
     "text": [
      "[ 1.02275792  4.88796632 -1.97610912]\n",
      "[[  1.64152761e-03   5.24047458e-06   2.15481835e-03]\n",
      " [  5.24047458e-06   8.14617275e-03   2.42689631e-05]\n",
      " [  2.15481835e-03   2.42689631e-05   8.36304485e-03]]\n"
     ]
    }
   ],
   "source": [
    "print popt\n",
    "print pcov"
   ]
  },
  {
   "cell_type": "code",
   "execution_count": 16,
   "metadata": {
    "collapsed": true
   },
   "outputs": [],
   "source": [
    "ymodel = func(x, popt[0], popt[1], popt[2])\n",
    "#this is the same as\n",
    "#ymodel = func(x, popt)"
   ]
  },
  {
   "cell_type": "code",
   "execution_count": 18,
   "metadata": {
    "collapsed": false
   },
   "outputs": [
    {
     "data": {
      "text/plain": [
       "<matplotlib.legend.Legend at 0x115909ed0>"
      ]
     },
     "execution_count": 18,
     "metadata": {},
     "output_type": "execute_result"
    },
    {
     "data": {
      "image/png": "[encoded data removed]",
      "text/plain": [
       "<matplotlib.figure.Figure at 0x1158d6450>"
      ]
     },
     "metadata": {},
     "output_type": "display_data"
    }
   ],
   "source": [
    "#popt returns the best fit values for parameters of the given model (func)\n",
    "# Plot out the current state of the data and model\n",
    "fig = mpl.figure()\n",
    "ax = fig.add_subplot(111)\n",
    "ax.plot(x, y, c='k', label='Function')\n",
    "ax.plot(x,ymodel,c='g',label='Best Fit')\n",
    "ax.scatter(x, yn)\n",
    "fig.savefig('model_and_noise_multiple.png')\n",
    "ax.legend()"
   ]
  },
  {
   "cell_type": "code",
   "execution_count": null,
   "metadata": {
    "collapsed": true
   },
   "outputs": [],
   "source": []
  }
 ],
 "metadata": {
  "kernelspec": {
   "display_name": "Python 2",
   "language": "python",
   "name": "python2"
  },
  "language_info": {
   "codemirror_mode": {
    "name": "ipython",
    "version": 2
   },
   "file_extension": ".py",
   "mimetype": "text/x-python",
   "name": "python",
   "nbconvert_exporter": "python",
   "pygments_lexer": "ipython2",
   "version": "2.7.13"
  }
 },
 "nbformat": 4,
 "nbformat_minor": 2
}
